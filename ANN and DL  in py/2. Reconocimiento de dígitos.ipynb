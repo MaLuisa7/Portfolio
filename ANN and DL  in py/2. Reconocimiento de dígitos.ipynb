{
 "cells": [
  {
   "cell_type": "markdown",
   "metadata": {},
   "source": [
    "<h1><font color=\"#113D68\" size=6>Deep Learning con Python y Keras</font></h1>\n",
    "\n",
    "<h1><font color=\"#113D68\" size=5>Parte 5. Redes Neuronales Convolucionales</font></h1>\n",
    "\n",
    "<h1><font color=\"#113D68\" size=4>2. Reconocimiento de dígitos</font></h1>\n",
    "\n",
    "<br><br>\n",
    "<div style=\"text-align: right\">\n",
    "<font color=\"#113D68\" size=3>Manuel Castillo Cara</font><br>\n",
    "\n",
    "</div>"
   ]
  },
  {
   "cell_type": "markdown",
   "metadata": {},
   "source": [
    "---\n",
    "\n",
    "<a id=\"indice\"></a>\n",
    "<h2><font color=\"#004D7F\" size=5>Índice</font></h2>\n",
    "\n",
    "* [0. Contexto](#section0)\n",
    "* [1. MNIST dataset](#section1)\n",
    "* [2. Cargar MNIST](#section2)\n",
    "* [3. Modelo de línea de base con MLP](#section3)\n",
    "* [4. CNN para MNIST](#section4)\n",
    "* [5. CNN más profunda para MNIST](#section5)"
   ]
  },
  {
   "cell_type": "markdown",
   "metadata": {},
   "source": [
    "---\n",
    "<a id=\"section0\"></a>\n",
    "# <font color=\"#004D7F\" size=6> 0. Contexto</font>"
   ]
  },
  {
   "cell_type": "markdown",
   "metadata": {},
   "source": [
    "En este proyecto, descubrirá cómo desarrollar un modelo de Deep Learning en la tarea de reconocimiento de dígitos manuscritos del MNIST. Después de completar esta clase sabrá:\n",
    "* Cómo cargar MNIST y desarrollar un modelo de red neuronal.\n",
    "* Cómo implementar y evaluar una CNN de línea base para MNIST.\n",
    "* Cómo implementar un modelo de Deep Learning avanzado para MNIST."
   ]
  },
  {
   "cell_type": "code",
   "execution_count": 1,
   "metadata": {},
   "outputs": [],
   "source": [
    "import tensorflow as tf\n",
    "# Eliminar warning\n",
    "tf.compat.v1.logging.set_verbosity(tf.compat.v1.logging.ERROR)"
   ]
  },
  {
   "cell_type": "markdown",
   "metadata": {},
   "source": [
    "---\n",
    "<div style=\"text-align: right\"> <font size=5> <a href=\"#indice\"><i class=\"fa fa-arrow-circle-up\" aria-hidden=\"true\" style=\"color:#004D7F\"></i></a></font></div>\n",
    "\n",
    "---"
   ]
  },
  {
   "cell_type": "markdown",
   "metadata": {},
   "source": [
    "<a id=\"section1\"></a>\n",
    "# <font color=\"#004D7F\" size=6>1. MNIST dataset</font>"
   ]
  },
  {
   "cell_type": "markdown",
   "metadata": {},
   "source": [
    "MNIST toma imágenes de dígitos de una variedad de documentos escaneados, normalizados en tamaño y centrados.\n",
    "\n",
    "Cada imagen es está dada en blanco y negro con $28 × 28$ píxeles (784 píxeles en total). Se usan 60,000 imágenes para entrenar un modelo y 10,000 imágenes para validarlo.\n",
    "\n",
    "Es una tarea de reconocimiento de dígitos. Como tal, hay 10 dígitos (0 a 9) o 10 clases para predecir. \n",
    "\n",
    "En la página web de Rodrigo Benenson hay una lista de los resultados más avanzados y enlaces a los artículos relevantes sobre el MNIST y otros conjuntos de datos."
   ]
  },
  {
   "cell_type": "markdown",
   "metadata": {},
   "source": [
    "<div class=\"alert alert-block alert-info\">\n",
    "    \n",
    "<i class=\"fa fa-info-circle\" aria-hidden=\"true\"></i>\n",
    "Más información sobre el dataset [MNIST](http://yann.lecun.com/exdb/mnist/)"
   ]
  },
  {
   "cell_type": "markdown",
   "metadata": {},
   "source": [
    "<div class=\"alert alert-block alert-info\">\n",
    "    \n",
    "<i class=\"fa fa-info-circle\" aria-hidden=\"true\"></i>\n",
    "Información de los resultados sobre MNIST de [Rodrigo Benenson](http://rodrigob.github.io/are_we_there_yet/build/classification_datasets_results.html)"
   ]
  },
  {
   "cell_type": "markdown",
   "metadata": {},
   "source": [
    "---\n",
    "<div style=\"text-align: right\"> <font size=5> <a href=\"#indice\"><i class=\"fa fa-arrow-circle-up\" aria-hidden=\"true\" style=\"color:#004D7F\"></i></a></font></div>\n",
    "\n",
    "---"
   ]
  },
  {
   "cell_type": "markdown",
   "metadata": {},
   "source": [
    "<a id=\"section2\"></a>\n",
    "# <font color=\"#004D7F\" size=6>2. Cargar MNIST</font>"
   ]
  },
  {
   "cell_type": "markdown",
   "metadata": {},
   "source": [
    "El conjunto de datos se descarga automáticamente la primera vez que se llama a esta función y se almacena en su directorio de inicio en `~/.keras/datasets/mnist.pkl.gz` como un archivo de 15 megabytes. \n",
    "\n",
    "Primero escribiremos un pequeño script para descargar y visualizar las primeras 4 imágenes mediante la función `mnist.load data()`."
   ]
  },
  {
   "cell_type": "code",
   "execution_count": 3,
   "metadata": {},
   "outputs": [
    {
     "name": "stdout",
     "output_type": "stream",
     "text": [
      "Downloading data from https://storage.googleapis.com/tensorflow/tf-keras-datasets/mnist.npz\n",
      "11493376/11490434 [==============================] - 3s 0us/step\n"
     ]
    },
    {
     "data": {
      "image/png": "[encoded data removed]",
      "text/plain": [
       "<Figure size 432x288 with 4 Axes>"
      ]
     },
     "metadata": {
      "needs_background": "light"
     },
     "output_type": "display_data"
    }
   ],
   "source": [
    "# Plot ad hoc mnist instances\n",
    "from keras.datasets import mnist\n",
    "import matplotlib.pyplot as plt\n",
    "\n",
    "# load (downloaded if needed) the MNIST dataset\n",
    "(X_train, y_train), (X_test, y_test) = mnist.load_data()\n",
    "\n",
    "# plot 4 images as gray scale\n",
    "plt.subplot(221)\n",
    "plt.imshow(X_train[0], cmap = plt.get_cmap('gray'))\n",
    "plt.subplot(222)\n",
    "plt.imshow(X_train[1], cmap = plt.get_cmap('gray'))\n",
    "plt.subplot(223)\n",
    "plt.imshow(X_train[2] , cmap = plt.get_cmap('gray'))\n",
    "plt.subplot(224)\n",
    "plt.imshow(X_train[3] , cmap = plt.get_cmap('gray'))\n",
    "\n",
    "# show the plot\n",
    "plt.show()"
   ]
  },
  {
   "cell_type": "markdown",
   "metadata": {},
   "source": [
    "---\n",
    "<div style=\"text-align: right\"> <font size=5> <a href=\"#indice\"><i class=\"fa fa-arrow-circle-up\" aria-hidden=\"true\" style=\"color:#004D7F\"></i></a></font></div>\n",
    "\n",
    "---"
   ]
  },
  {
   "cell_type": "markdown",
   "metadata": {},
   "source": [
    "<a id=\"section3\"></a>\n",
    "# <font color=\"#004D7F\" size=6>3. MLP de línea base</font>"
   ]
  },
  {
   "cell_type": "markdown",
   "metadata": {},
   "source": [
    "Vamos a usar un MLP clásico como base para la comparación con modelos de redes neuronales convolucionales. \n",
    "\n",
    "Importamos las clases, funciones y el dataset MNIST."
   ]
  },
  {
   "cell_type": "code",
   "execution_count": 19,
   "metadata": {},
   "outputs": [],
   "source": [
    "# Baseline MLP for MNIST dataset\n",
    "from keras.models import Sequential\n",
    "from keras.layers import Dense\n",
    "from keras.utils import np_utils\n",
    "\n",
    "# load (downloaded if needed) the MNIST dataset\n",
    "(X_train, y_train), (X_test, y_test) = mnist.load_data()"
   ]
  },
  {
   "cell_type": "markdown",
   "metadata": {},
   "source": [
    "Para un MLP clásico debemos reducir las imágenes a un vector de píxeles. En este caso, las imágenes de tamaño $28 × 28$ serán vectores de entrada de 784 píxeles. \n",
    "\n",
    "Realizamos esta transformación meidante la función `reshape()`. \n",
    "\n",
    "Los valores de los píxeles son números enteros, por lo que los convertimos a punto flotante para poder normalizarlos."
   ]
  },
  {
   "cell_type": "code",
   "execution_count": 20,
   "metadata": {},
   "outputs": [],
   "source": [
    "# flatten 28*28 images to a 784 vector for each image\n",
    "num_pixels = X_train.shape[1] * X_train.shape[2]\n",
    "\n",
    "X_train = X_train.reshape((X_train.shape[0], num_pixels)).astype('float32')\n",
    "X_test = X_test.reshape((X_test.shape[0], num_pixels)).astype('float32')"
   ]
  },
  {
   "cell_type": "markdown",
   "metadata": {},
   "source": [
    "Los valores de los píxeles están en una escala de grises entre 0 y 255. Podemos normalizar los valores de los píxeles en el rango 0 y 1 dividiendo cada valor por el máximo valor, i.e., 255."
   ]
  },
  {
   "cell_type": "code",
   "execution_count": 21,
   "metadata": {},
   "outputs": [],
   "source": [
    "# normalize inputs from 0-255 to 0-1\n",
    "X_train = X_train /255\n",
    "X_test = X_test /255"
   ]
  },
  {
   "cell_type": "markdown",
   "metadata": {},
   "source": [
    "Finalmente, la variable de salida es un número entero de 0 a 9. Por tanto, usaremos One-Hot Encoding para transformar el vector de enteros de clase en una matriz binaria. \n",
    "\n",
    "Usaremos para ello la función de Keras `np_utils.to_categorical()`."
   ]
  },
  {
   "cell_type": "code",
   "execution_count": 22,
   "metadata": {},
   "outputs": [],
   "source": [
    "# one hot encode outputs\n",
    "y_train = np_utils.to_categorical(y_train)\n",
    "y_test = np_utils.to_categorical(y_test)\n",
    "\n",
    "num_classes = y_test.shape[1]"
   ]
  },
  {
   "cell_type": "markdown",
   "metadata": {},
   "source": [
    "Vamos a definir nuestro modelo:\n",
    "1. El número de entradas será el tamaño máximo de pixeles (784)\n",
    "2. Tendrá una capa oculta con el mismo número de neuronas que entradas (784). \n",
    "3. Se utiliza una función de activación ReLU en la capa oculta. \n",
    "4. Se utiliza una función de activación Softmax en la capa de salida. \n",
    "5. La función de pérdida será `categorical_crossentropy`. \n",
    "6. Utilizaremos ADAM para aprender los pesos. \n",
    "<img src=\"Img/baselineMLP.png\" width=\"550\" height=\"550\" />"
   ]
  },
  {
   "cell_type": "code",
   "execution_count": 23,
   "metadata": {},
   "outputs": [],
   "source": [
    "# define baseline model\n",
    "def baseline_model():\n",
    "    # create model\n",
    "    model = Sequential()\n",
    "    model.add(Dense(num_pixels, input_dim = num_pixels, activation = 'relu'))\n",
    "    model.add(Dense(num_classes, activation = 'softmax'))\n",
    "    # Compile model\n",
    "    model.compile(loss='categorical_crossentropy', optimizer = 'adam', metrics = ['accuracy'])\n",
    "    return model"
   ]
  },
  {
   "cell_type": "markdown",
   "metadata": {},
   "source": [
    "Entrenamos y evaluamos el modelo. \n",
    "1. El modelo se ajusta a más de 10 épocas con actualizaciones cada 200 imágenes. \n",
    "2. Los datos de test se utilizan como conjunto de datos de validación.\n",
    "3. Se utiliza un valor `verbose` de 2. \n",
    "4. Evaluamos en test e imprimimos las métricas."
   ]
  },
  {
   "cell_type": "code",
   "execution_count": 24,
   "metadata": {},
   "outputs": [
    {
     "name": "stdout",
     "output_type": "stream",
     "text": [
      "Epoch 1/10\n",
      "300/300 - 3s - loss: 0.2806 - accuracy: 0.9210 - val_loss: 0.1450 - val_accuracy: 0.9594\n",
      "Epoch 2/10\n",
      "300/300 - 2s - loss: 0.1119 - accuracy: 0.9677 - val_loss: 0.0929 - val_accuracy: 0.9711\n",
      "Epoch 3/10\n",
      "300/300 - 2s - loss: 0.0721 - accuracy: 0.9787 - val_loss: 0.0752 - val_accuracy: 0.9768\n",
      "Epoch 4/10\n",
      "300/300 - 2s - loss: 0.0512 - accuracy: 0.9851 - val_loss: 0.0643 - val_accuracy: 0.9792\n",
      "Epoch 5/10\n",
      "300/300 - 2s - loss: 0.0367 - accuracy: 0.9896 - val_loss: 0.0656 - val_accuracy: 0.9791\n",
      "Epoch 6/10\n",
      "300/300 - 2s - loss: 0.0280 - accuracy: 0.9920 - val_loss: 0.0622 - val_accuracy: 0.9805\n",
      "Epoch 7/10\n",
      "300/300 - 2s - loss: 0.0205 - accuracy: 0.9948 - val_loss: 0.0567 - val_accuracy: 0.9818\n",
      "Epoch 8/10\n",
      "300/300 - 2s - loss: 0.0157 - accuracy: 0.9961 - val_loss: 0.0626 - val_accuracy: 0.9795\n",
      "Epoch 9/10\n",
      "300/300 - 2s - loss: 0.0115 - accuracy: 0.9975 - val_loss: 0.0570 - val_accuracy: 0.9825\n",
      "Epoch 10/10\n",
      "300/300 - 2s - loss: 0.0084 - accuracy: 0.9983 - val_loss: 0.0608 - val_accuracy: 0.9807\n",
      "Error del modelo de linea base: 1.93%\n"
     ]
    }
   ],
   "source": [
    "# build the model\n",
    "model = baseline_model() \n",
    "\n",
    "# Fit the model\n",
    "model.fit(X_train, y_train, validation_data = (X_test, y_test), \n",
    "         epochs=10, batch_size = 200, verbose=2)\n",
    "\n",
    "# Final evaluation of the model\n",
    "scores = model.evaluate(X_test, y_test, verbose=0)\n",
    "print('Error del modelo de linea base: %.2f%%' %(100-scores[1]*100))"
   ]
  },
  {
   "cell_type": "markdown",
   "metadata": {},
   "source": [
    "---\n",
    "<div style=\"text-align: right\"> <font size=5> <a href=\"#indice\"><i class=\"fa fa-arrow-circle-up\" aria-hidden=\"true\" style=\"color:#004D7F\"></i></a></font></div>\n",
    "\n",
    "---"
   ]
  },
  {
   "cell_type": "markdown",
   "metadata": {},
   "source": [
    "<a id=\"section4\"></a>\n",
    "# <font color=\"#004D7F\" size=6>4. CNN para MNIST </font>"
   ]
  },
  {
   "cell_type": "markdown",
   "metadata": {},
   "source": [
    "Ahora que hemos visto cómo cargar el conjunto de datos MNIST y entrenar un modelo simple de perceptrón multicapa en él, es hora de desarrollar una red neuronal convolucional más sofisticada o un modelo CNN. \n",
    "\n",
    "Crearemos una CNN simple para MNIST que demuestra cómo utilizar todos los aspectos de una implementación de CNN moderna, incluidas las capas convolucionales, las capas de agrupación y las capas de dropout. \n",
    "\n",
    "El primer paso es importar las clases y funciones necesarias."
   ]
  },
  {
   "cell_type": "code",
   "execution_count": 25,
   "metadata": {},
   "outputs": [],
   "source": [
    "# Simple CNN for the MNIST Dataset\n",
    "from keras.datasets import mnist\n",
    "from keras.models import Sequential\n",
    "from keras.layers import Dense\n",
    "from keras.layers import Dropout\n",
    "from keras.layers import Flatten\n",
    "from keras.layers.convolutional import Conv2D\n",
    "from keras.layers.convolutional import MaxPooling2D\n",
    "from keras.utils import np_utils"
   ]
  },
  {
   "cell_type": "markdown",
   "metadata": {},
   "source": [
    "En Keras, las capas utilizadas para convoluciones bidimensionales esperan valores de píxeles con las dimensiones `[muestras]-[ancho]-[alto]-[canales]`. \n",
    "\n",
    "En cuanto al canal en MNIST, ya que está dada en escala de grises, la dimensión de píxel se establece en 1."
   ]
  },
  {
   "cell_type": "code",
   "execution_count": 35,
   "metadata": {},
   "outputs": [],
   "source": [
    "# load data\n",
    "(X_train, y_train), (X_test, y_test) = mnist.load_data()\n",
    "\n",
    "# reshape to be [samples][width][height][channels]\n",
    "X_train = X_train.reshape((X_train.shape[0], 28,28,1)).astype('float32')\n",
    "X_test = X_test.reshape((X_test.shape[0], 28,28,1)).astype('float32')"
   ]
  },
  {
   "cell_type": "markdown",
   "metadata": {},
   "source": [
    "Normalizamos los valores de los píxeles en el rango 0 y 1 y realizar OHE en el target."
   ]
  },
  {
   "cell_type": "code",
   "execution_count": 36,
   "metadata": {},
   "outputs": [],
   "source": [
    "# normalize inputs from 0-255 to 0-1\n",
    "X_train = X_train/255\n",
    "X_test = X_test/255\n",
    "\n",
    "# one hot encode outputs\n",
    "y_train = np_utils.to_categorical(y_train)\n",
    "y_test = np_utils.to_categorical(y_test)\n",
    "\n",
    "num_classes = y_test.shape[1]"
   ]
  },
  {
   "cell_type": "markdown",
   "metadata": {},
   "source": [
    "A continuación, definimos nuestro modelo de red neuronal:\n",
    "\n",
    "1. La primera capa oculta es una capa convolucional llamada `Conv2D`. \n",
    "    * Tiene 32 mapas de características, con un tamaño de $5 × 5$ y una función de activación ReLu.\n",
    "2. Capa Pooling  `MaxPooling2D `. \n",
    "    * Tamaño de pacht de $2 × 2$.\n",
    "3. Capa de regularización `Dropout`. \n",
    "4. Capa `Flatten` para conversión de la matriz 2D en un vector (1D).\n",
    "5. Capa `Dense` con 128 neuronas y la función de activación ReLU.\n",
    "6. Capa de salida con 10 neuronas para las 10 clases y una función de activación **Softmax**.\n",
    "7. La compilación con ADAM, pérdida logarítmica como función de coste y Accuracy como métrica.\n",
    "\n",
    "<img src=\"Img/cnnTopology.png\" width=\"900\" height=\"900\" />"
   ]
  },
  {
   "cell_type": "code",
   "execution_count": 37,
   "metadata": {},
   "outputs": [],
   "source": [
    "# define a simple CNN model\n",
    "def baseline_model():\n",
    "    # create model\n",
    "    model = Sequential()\n",
    "    model.add(Conv2D(32, (5,5), input_shape = (28,28,1), activation = 'relu'))\n",
    "    model.add(MaxPooling2D())\n",
    "    model.add(Dropout(0.2))\n",
    "    model.add(Flatten())\n",
    "    model.add(Dense(128, activation = 'relu'))\n",
    "    model.add(Dense(num_classes, activation = 'softmax'))\n",
    "    # Compile model\n",
    "    model.compile(loss='categorical_crossentropy', optimizer = 'adam',\n",
    "                 metrics = ['accuracy'])\n",
    "    return model"
   ]
  },
  {
   "cell_type": "markdown",
   "metadata": {},
   "source": [
    "Entrenamos con 10 épocas a un tamaño de batch de 200."
   ]
  },
  {
   "cell_type": "code",
   "execution_count": 38,
   "metadata": {},
   "outputs": [
    {
     "name": "stdout",
     "output_type": "stream",
     "text": [
      "Epoch 1/10\n",
      "300/300 [==============================] - 13s 43ms/step - loss: 0.4924 - accuracy: 0.8565 - val_loss: 0.0822 - val_accuracy: 0.9758\n",
      "Epoch 2/10\n",
      "300/300 [==============================] - 14s 46ms/step - loss: 0.0798 - accuracy: 0.9764 - val_loss: 0.0532 - val_accuracy: 0.9842\n",
      "Epoch 3/10\n",
      "300/300 [==============================] - 14s 45ms/step - loss: 0.0559 - accuracy: 0.9826 - val_loss: 0.0452 - val_accuracy: 0.9847\n",
      "Epoch 4/10\n",
      "300/300 [==============================] - 14s 46ms/step - loss: 0.0418 - accuracy: 0.9867 - val_loss: 0.0352 - val_accuracy: 0.9879\n",
      "Epoch 5/10\n",
      "300/300 [==============================] - 13s 44ms/step - loss: 0.0329 - accuracy: 0.9895 - val_loss: 0.0335 - val_accuracy: 0.9889\n",
      "Epoch 6/10\n",
      "300/300 [==============================] - 13s 44ms/step - loss: 0.0266 - accuracy: 0.9921 - val_loss: 0.0359 - val_accuracy: 0.9872\n",
      "Epoch 7/10\n",
      "300/300 [==============================] - 13s 44ms/step - loss: 0.0232 - accuracy: 0.9929 - val_loss: 0.0377 - val_accuracy: 0.9880\n",
      "Epoch 8/10\n",
      "300/300 [==============================] - 14s 46ms/step - loss: 0.0191 - accuracy: 0.9937 - val_loss: 0.0356 - val_accuracy: 0.9884\n",
      "Epoch 9/10\n",
      "300/300 [==============================] - 13s 44ms/step - loss: 0.0168 - accuracy: 0.9950 - val_loss: 0.0419 - val_accuracy: 0.9860\n",
      "Epoch 10/10\n",
      "300/300 [==============================] - 13s 45ms/step - loss: 0.0146 - accuracy: 0.9954 - val_loss: 0.0290 - val_accuracy: 0.9901\n",
      "Error de la CNN de linea base: 0.99%\n"
     ]
    }
   ],
   "source": [
    "# build the model\n",
    "model = baseline_model()\n",
    "\n",
    "# Fit the model\n",
    "model.fit(X_train, y_train, validation_data=(X_test, y_test), epochs =10,\n",
    "         batch_size=200)\n",
    "\n",
    "# Final evaluation of the model\n",
    "scores = model.evaluate(X_test, y_test, verbose=0)\n",
    "print('Error de la CNN de linea base: %.2f%%' %(100-scores[1]*100))"
   ]
  },
  {
   "cell_type": "markdown",
   "metadata": {},
   "source": [
    "---\n",
    "<div style=\"text-align: right\"> <font size=5> <a href=\"#indice\"><i class=\"fa fa-arrow-circle-up\" aria-hidden=\"true\" style=\"color:#004D7F\"></i></a></font></div>\n",
    "\n",
    "---"
   ]
  },
  {
   "cell_type": "markdown",
   "metadata": {},
   "source": [
    "<a id=\"section5\"></a>\n",
    "# <font color=\"#004D7F\" size=6>5. CNN más profunda para MNIST </font>"
   ]
  },
  {
   "cell_type": "markdown",
   "metadata": {},
   "source": [
    "Esta vez definimos una arquitectura con más capas de convolucionales, Max-pooling y capas completamente conectadas.\n",
    "\n",
    "1. Capa convolucional con 30 mapas de tamaño $5 × 5$.\n",
    "2. Capa de Pooling con patch de $2 × 2$.\n",
    "3. Capa convolucional con 15 mapas de tamaño $3 × 3$.\n",
    "4. Capa de Pooling con patch de $2 × 2$.\n",
    "5. Capa de Dropout del 20%.\n",
    "6. Capa Flatten.\n",
    "7. Capa completamente conectada con 128 neuronas y ReLu.\n",
    "8. Capa completamente conectada con 50 neuronas y ReLu\n",
    "9. Capa de salida cpm activación Softmax.\n",
    "10. La compilación con ADAM, pérdida logarítmica como función de coste y Accuracy como métrica.\n",
    "\n",
    "<img src=\"Img/cnnlarger.png\" width=\"1200\" height=\"1200\" />"
   ]
  },
  {
   "cell_type": "code",
   "execution_count": 39,
   "metadata": {},
   "outputs": [
    {
     "name": "stdout",
     "output_type": "stream",
     "text": [
      "Epoch 1/10\n",
      "300/300 [==============================] - 13s 42ms/step - loss: 0.8315 - accuracy: 0.7419 - val_loss: 0.0800 - val_accuracy: 0.9747\n",
      "Epoch 2/10\n",
      "300/300 [==============================] - 13s 42ms/step - loss: 0.1032 - accuracy: 0.9683 - val_loss: 0.0501 - val_accuracy: 0.9832\n",
      "Epoch 3/10\n",
      "300/300 [==============================] - 13s 45ms/step - loss: 0.0704 - accuracy: 0.9784 - val_loss: 0.0366 - val_accuracy: 0.9870\n",
      "Epoch 4/10\n",
      "300/300 [==============================] - 13s 44ms/step - loss: 0.0585 - accuracy: 0.9821 - val_loss: 0.0334 - val_accuracy: 0.9897\n",
      "Epoch 5/10\n",
      "300/300 [==============================] - 13s 42ms/step - loss: 0.0470 - accuracy: 0.9849 - val_loss: 0.0334 - val_accuracy: 0.9884\n",
      "Epoch 6/10\n",
      "300/300 [==============================] - 13s 43ms/step - loss: 0.0401 - accuracy: 0.9877 - val_loss: 0.0313 - val_accuracy: 0.9883\n",
      "Epoch 7/10\n",
      "300/300 [==============================] - 14s 47ms/step - loss: 0.0378 - accuracy: 0.9881 - val_loss: 0.0281 - val_accuracy: 0.9907\n",
      "Epoch 8/10\n",
      "300/300 [==============================] - 15s 49ms/step - loss: 0.0321 - accuracy: 0.9894 - val_loss: 0.0264 - val_accuracy: 0.9910\n",
      "Epoch 9/10\n",
      "300/300 [==============================] - 14s 48ms/step - loss: 0.0272 - accuracy: 0.9909 - val_loss: 0.0242 - val_accuracy: 0.9920\n",
      "Epoch 10/10\n",
      "300/300 [==============================] - 13s 43ms/step - loss: 0.0273 - accuracy: 0.9908 - val_loss: 0.0258 - val_accuracy: 0.9914\n",
      "Error de la CNN más profunda: 0.86%\n"
     ]
    }
   ],
   "source": [
    "def larger_model():\n",
    "        # create model\n",
    "    model = Sequential()\n",
    "    model.add(Conv2D(30, (5,5), input_shape = (28,28,1), activation = 'relu'))\n",
    "    model.add(MaxPooling2D())\n",
    "    model.add(Conv2D(15, (2,2), activation = 'relu'))\n",
    "    model.add(MaxPooling2D())\n",
    "    model.add(Dropout(0.2))\n",
    "    model.add(Flatten())\n",
    "    model.add(Dense(128, activation = 'relu'))\n",
    "    model.add(Dense(150, activation = 'relu'))\n",
    "    model.add(Dense(num_classes, activation = 'softmax'))\n",
    "    # Compile model\n",
    "    model.compile(loss='categorical_crossentropy', optimizer = 'adam',\n",
    "                 metrics = ['accuracy'])\n",
    "    return model\n",
    "\n",
    "# build the model\n",
    "model = larger_model()\n",
    "\n",
    "# Fit the model\n",
    "model.fit(X_train, y_train, validation_data=(X_test, y_test), epochs =10,\n",
    "         batch_size=200)\n",
    "\n",
    "# Final evaluation of the model\n",
    "scores = model.evaluate(X_test, y_test, verbose=0)\n",
    "print('Error de la CNN más profunda: %.2f%%' %(100-scores[1]*100))"
   ]
  },
  {
   "cell_type": "markdown",
   "metadata": {},
   "source": [
    "<div style=\"text-align: right\"> <font size=5> <a href=\"#indice\"><i class=\"fa fa-arrow-circle-up\" aria-hidden=\"true\" style=\"color:#004D7F\"></i></a></font></div>\n",
    "\n",
    "---\n",
    "\n",
    "<div style=\"text-align: right\"> <font size=6><i class=\"fa fa-coffee\" aria-hidden=\"true\" style=\"color:#004D7F\"></i> </font></div>"
   ]
  }
 ],
 "metadata": {
  "kernelspec": {
   "display_name": "Python 3",
   "language": "python",
   "name": "python3"
  },
  "language_info": {
   "codemirror_mode": {
    "name": "ipython",
    "version": 3
   },
   "file_extension": ".py",
   "mimetype": "text/x-python",
   "name": "python",
   "nbconvert_exporter": "python",
   "pygments_lexer": "ipython3",
   "version": "3.8.5"
  }
 },
 "nbformat": 4,
 "nbformat_minor": 2
}
