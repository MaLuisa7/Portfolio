{
 "cells": [
  {
   "cell_type": "markdown",
   "metadata": {},
   "source": [
    "<h1><font color=\"#113D68\" size=6>Deep Learning con Python y Keras</font></h1>\n",
    "\n",
    "<h1><font color=\"#113D68\" size=5>Parte 3. Multilayer Perceptron</font></h1>\n",
    "\n",
    "<h1><font color=\"#113D68\" size=4>7. Proyecto de regresión</font></h1>\n",
    "\n",
    "<br><br>\n",
    "<div style=\"text-align: right\">\n",
    "<font color=\"#113D68\" size=3>Manuel Castillo Cara</font><br>\n",
    "\n",
    "</div>"
   ]
  },
  {
   "cell_type": "markdown",
   "metadata": {},
   "source": [
    "---\n",
    "\n",
    "<a id=\"indice\"></a>\n",
    "<h2><font color=\"#004D7F\" size=5>Índice</font></h2>\n",
    "\n",
    "* [0. Contexto](#section0)\n",
    "* [1. Topología de linea base](#section1)\n",
    "* [2. Optimizar el rendimiento con procesamiento de datos](#section2)\n",
    "* [3. Ajuste de la toplogía](#section3)\n",
    "    * [3.1. Evaluar una topología más profunda](#section3.1)\n",
    "    * [3.2. Evaluar una topología más grande](#section3.2)"
   ]
  },
  {
   "cell_type": "markdown",
   "metadata": {},
   "source": [
    "---\n",
    "<a id=\"section0\"></a>\n",
    "# <font color=\"#004D7F\" size=6> 0. Contexto</font>"
   ]
  },
  {
   "cell_type": "markdown",
   "metadata": {},
   "source": [
    "En este tutorial del proyecto, trabajaremos cómo desarrollar y evaluar modelos de redes neuronales para un problema de regresión:\n",
    "* Cómo crear un modelo de red neuronal para un problema de regresión.\n",
    "* Cómo utilizar scikit-learn con Keras para evaluar modelos mediante validación cruzada.\n",
    "* Cómo realizar la preparación de datos para mejorar la habilidad.\n",
    "* Cómo Optimizar la topología de red de modelos."
   ]
  },
  {
   "cell_type": "code",
   "execution_count": 10,
   "metadata": {},
   "outputs": [],
   "source": [
    "import tensorflow as tf\n",
    "# Eliminar warning\n",
    "tf.compat.v1.logging.set_verbosity(tf.compat.v1.logging.ERROR)"
   ]
  },
  {
   "cell_type": "markdown",
   "metadata": {},
   "source": [
    "---\n",
    "<div style=\"text-align: right\"> <font size=5> <a href=\"#indice\"><i class=\"fa fa-arrow-circle-up\" aria-hidden=\"true\" style=\"color:#004D7F\"></i></a></font></div>\n",
    "\n",
    "---"
   ]
  },
  {
   "cell_type": "markdown",
   "metadata": {},
   "source": [
    "<a id=\"section1\"></a>\n",
    "# <font color=\"#004D7F\" size=6>1. Topología de linea base</font>"
   ]
  },
  {
   "cell_type": "markdown",
   "metadata": {},
   "source": [
    "En esta sección crearemos un modelo de red neuronal de referencia para el problema de regresión. Comencemos importando todas las funciones y objetos que necesitaremos para este tutorial."
   ]
  },
  {
   "cell_type": "markdown",
   "metadata": {},
   "source": [
    "<div class=\"alert alert-block alert-info\">\n",
    "    \n",
    "<i class=\"fa fa-info-circle\" aria-hidden=\"true\"></i>\n",
    "Más información sobre el dataset [Boston House Price](http://lib.stat.cmu.edu/datasets/boston)"
   ]
  },
  {
   "cell_type": "code",
   "execution_count": 5,
   "metadata": {},
   "outputs": [
    {
     "data": {
      "text/html": [
       "<div>\n",
       "<style scoped>\n",
       "    .dataframe tbody tr th:only-of-type {\n",
       "        vertical-align: middle;\n",
       "    }\n",
       "\n",
       "    .dataframe tbody tr th {\n",
       "        vertical-align: top;\n",
       "    }\n",
       "\n",
       "    .dataframe thead th {\n",
       "        text-align: right;\n",
       "    }\n",
       "</style>\n",
       "<table border=\"1\" class=\"dataframe\">\n",
       "  <thead>\n",
       "    <tr style=\"text-align: right;\">\n",
       "      <th></th>\n",
       "      <th>Colada</th>\n",
       "      <th>Orden</th>\n",
       "      <th>Grado</th>\n",
       "      <th>Perfil</th>\n",
       "      <th>FechaProducción</th>\n",
       "      <th>Muestra</th>\n",
       "      <th>Inoxidable</th>\n",
       "      <th>Duración</th>\n",
       "      <th>ModeloHidrógeno</th>\n",
       "      <th>HidrógenoPPM</th>\n",
       "      <th>...</th>\n",
       "      <th>VDStartTemp</th>\n",
       "      <th>VDDuration TOTAL</th>\n",
       "      <th>VDPowerOn</th>\n",
       "      <th>VDPowerOff</th>\n",
       "      <th>VDEvacuationDuration</th>\n",
       "      <th>VDDeepVacuunDuration</th>\n",
       "      <th>VDPressureMin</th>\n",
       "      <th>VDArgonTotal</th>\n",
       "      <th>VDNitrogenTotal</th>\n",
       "      <th>VDEndTemp</th>\n",
       "    </tr>\n",
       "  </thead>\n",
       "  <tbody>\n",
       "    <tr>\n",
       "      <th>0</th>\n",
       "      <td>1207532</td>\n",
       "      <td>60052459</td>\n",
       "      <td>42CRMO4 LIEBHERR</td>\n",
       "      <td>24\"R</td>\n",
       "      <td>2020-08-01</td>\n",
       "      <td>VD03</td>\n",
       "      <td>no</td>\n",
       "      <td>20</td>\n",
       "      <td>0.98</td>\n",
       "      <td>1.12</td>\n",
       "      <td>...</td>\n",
       "      <td>1652</td>\n",
       "      <td>60</td>\n",
       "      <td>27</td>\n",
       "      <td>33</td>\n",
       "      <td>7</td>\n",
       "      <td>20</td>\n",
       "      <td>0.67</td>\n",
       "      <td>4.44</td>\n",
       "      <td>0.0</td>\n",
       "      <td>1563</td>\n",
       "    </tr>\n",
       "    <tr>\n",
       "      <th>1</th>\n",
       "      <td>1207533</td>\n",
       "      <td>60052354</td>\n",
       "      <td>4140</td>\n",
       "      <td>16\"R</td>\n",
       "      <td>2020-08-01</td>\n",
       "      <td>VD02</td>\n",
       "      <td>no</td>\n",
       "      <td>19</td>\n",
       "      <td>1.17</td>\n",
       "      <td>0.81</td>\n",
       "      <td>...</td>\n",
       "      <td>1668</td>\n",
       "      <td>54</td>\n",
       "      <td>25</td>\n",
       "      <td>29</td>\n",
       "      <td>6</td>\n",
       "      <td>19</td>\n",
       "      <td>0.58</td>\n",
       "      <td>3.91</td>\n",
       "      <td>0.0</td>\n",
       "      <td>1581</td>\n",
       "    </tr>\n",
       "    <tr>\n",
       "      <th>2</th>\n",
       "      <td>1207534</td>\n",
       "      <td>60052387</td>\n",
       "      <td>A105</td>\n",
       "      <td>52\"P</td>\n",
       "      <td>2020-08-01</td>\n",
       "      <td>VD03</td>\n",
       "      <td>no</td>\n",
       "      <td>22</td>\n",
       "      <td>0.78</td>\n",
       "      <td>0.65</td>\n",
       "      <td>...</td>\n",
       "      <td>1684</td>\n",
       "      <td>61</td>\n",
       "      <td>29</td>\n",
       "      <td>32</td>\n",
       "      <td>7</td>\n",
       "      <td>22</td>\n",
       "      <td>0.78</td>\n",
       "      <td>10.69</td>\n",
       "      <td>0.0</td>\n",
       "      <td>1577</td>\n",
       "    </tr>\n",
       "    <tr>\n",
       "      <th>3</th>\n",
       "      <td>1207535</td>\n",
       "      <td>60052524</td>\n",
       "      <td>A105</td>\n",
       "      <td>39\"R</td>\n",
       "      <td>2020-08-01</td>\n",
       "      <td>VD02</td>\n",
       "      <td>no</td>\n",
       "      <td>16</td>\n",
       "      <td>1.10</td>\n",
       "      <td>1.10</td>\n",
       "      <td>...</td>\n",
       "      <td>1669</td>\n",
       "      <td>54</td>\n",
       "      <td>22</td>\n",
       "      <td>32</td>\n",
       "      <td>6</td>\n",
       "      <td>16</td>\n",
       "      <td>0.71</td>\n",
       "      <td>3.55</td>\n",
       "      <td>0.0</td>\n",
       "      <td>1586</td>\n",
       "    </tr>\n",
       "    <tr>\n",
       "      <th>4</th>\n",
       "      <td>1207536</td>\n",
       "      <td>60052371</td>\n",
       "      <td>1020</td>\n",
       "      <td>20\"R</td>\n",
       "      <td>2020-08-01</td>\n",
       "      <td>VD02</td>\n",
       "      <td>no</td>\n",
       "      <td>20</td>\n",
       "      <td>1.10</td>\n",
       "      <td>1.10</td>\n",
       "      <td>...</td>\n",
       "      <td>1690</td>\n",
       "      <td>52</td>\n",
       "      <td>26</td>\n",
       "      <td>26</td>\n",
       "      <td>6</td>\n",
       "      <td>20</td>\n",
       "      <td>0.68</td>\n",
       "      <td>3.53</td>\n",
       "      <td>0.0</td>\n",
       "      <td>1598</td>\n",
       "    </tr>\n",
       "    <tr>\n",
       "      <th>...</th>\n",
       "      <td>...</td>\n",
       "      <td>...</td>\n",
       "      <td>...</td>\n",
       "      <td>...</td>\n",
       "      <td>...</td>\n",
       "      <td>...</td>\n",
       "      <td>...</td>\n",
       "      <td>...</td>\n",
       "      <td>...</td>\n",
       "      <td>...</td>\n",
       "      <td>...</td>\n",
       "      <td>...</td>\n",
       "      <td>...</td>\n",
       "      <td>...</td>\n",
       "      <td>...</td>\n",
       "      <td>...</td>\n",
       "      <td>...</td>\n",
       "      <td>...</td>\n",
       "      <td>...</td>\n",
       "      <td>...</td>\n",
       "      <td>...</td>\n",
       "    </tr>\n",
       "    <tr>\n",
       "      <th>822</th>\n",
       "      <td>1208354</td>\n",
       "      <td>60057797</td>\n",
       "      <td>1524 CAT</td>\n",
       "      <td>20\"R</td>\n",
       "      <td>2020-12-22</td>\n",
       "      <td>VD02</td>\n",
       "      <td>no</td>\n",
       "      <td>24</td>\n",
       "      <td>0.72</td>\n",
       "      <td>0.99</td>\n",
       "      <td>...</td>\n",
       "      <td>1703</td>\n",
       "      <td>56</td>\n",
       "      <td>29</td>\n",
       "      <td>27</td>\n",
       "      <td>5</td>\n",
       "      <td>24</td>\n",
       "      <td>0.58</td>\n",
       "      <td>9.86</td>\n",
       "      <td>0.0</td>\n",
       "      <td>1596</td>\n",
       "    </tr>\n",
       "    <tr>\n",
       "      <th>823</th>\n",
       "      <td>1208355</td>\n",
       "      <td>60058173</td>\n",
       "      <td>A871 TYPE 1</td>\n",
       "      <td>31\"R</td>\n",
       "      <td>2020-12-22</td>\n",
       "      <td>VD03</td>\n",
       "      <td>no</td>\n",
       "      <td>24</td>\n",
       "      <td>0.71</td>\n",
       "      <td>0.71</td>\n",
       "      <td>...</td>\n",
       "      <td>1685</td>\n",
       "      <td>60</td>\n",
       "      <td>29</td>\n",
       "      <td>31</td>\n",
       "      <td>5</td>\n",
       "      <td>24</td>\n",
       "      <td>0.64</td>\n",
       "      <td>10.78</td>\n",
       "      <td>0.0</td>\n",
       "      <td>1587</td>\n",
       "    </tr>\n",
       "    <tr>\n",
       "      <th>824</th>\n",
       "      <td>1208356</td>\n",
       "      <td>60058289</td>\n",
       "      <td>1080</td>\n",
       "      <td>24\"R</td>\n",
       "      <td>2020-12-22</td>\n",
       "      <td>VD03</td>\n",
       "      <td>no</td>\n",
       "      <td>22</td>\n",
       "      <td>0.71</td>\n",
       "      <td>0.67</td>\n",
       "      <td>...</td>\n",
       "      <td>1643</td>\n",
       "      <td>63</td>\n",
       "      <td>28</td>\n",
       "      <td>35</td>\n",
       "      <td>6</td>\n",
       "      <td>22</td>\n",
       "      <td>0.58</td>\n",
       "      <td>8.41</td>\n",
       "      <td>0.0</td>\n",
       "      <td>1551</td>\n",
       "    </tr>\n",
       "    <tr>\n",
       "      <th>825</th>\n",
       "      <td>1208357</td>\n",
       "      <td>60058295</td>\n",
       "      <td>E8630M</td>\n",
       "      <td>31\"R</td>\n",
       "      <td>2020-12-22</td>\n",
       "      <td>VD02</td>\n",
       "      <td>no</td>\n",
       "      <td>24</td>\n",
       "      <td>0.72</td>\n",
       "      <td>0.82</td>\n",
       "      <td>...</td>\n",
       "      <td>1680</td>\n",
       "      <td>54</td>\n",
       "      <td>29</td>\n",
       "      <td>25</td>\n",
       "      <td>5</td>\n",
       "      <td>24</td>\n",
       "      <td>0.56</td>\n",
       "      <td>5.81</td>\n",
       "      <td>0.0</td>\n",
       "      <td>1580</td>\n",
       "    </tr>\n",
       "    <tr>\n",
       "      <th>826</th>\n",
       "      <td>1208358</td>\n",
       "      <td>60058301</td>\n",
       "      <td>E8630M</td>\n",
       "      <td>13\"R</td>\n",
       "      <td>2020-12-23</td>\n",
       "      <td>VD04</td>\n",
       "      <td>no</td>\n",
       "      <td>53</td>\n",
       "      <td>0.78</td>\n",
       "      <td>0.74</td>\n",
       "      <td>...</td>\n",
       "      <td>1686</td>\n",
       "      <td>114</td>\n",
       "      <td>63</td>\n",
       "      <td>51</td>\n",
       "      <td>10</td>\n",
       "      <td>53</td>\n",
       "      <td>0.29</td>\n",
       "      <td>12.45</td>\n",
       "      <td>0.0</td>\n",
       "      <td>1590</td>\n",
       "    </tr>\n",
       "  </tbody>\n",
       "</table>\n",
       "<p>827 rows × 43 columns</p>\n",
       "</div>"
      ],
      "text/plain": [
       "      Colada     Orden             Grado Perfil FechaProducción Muestra  \\\n",
       "0    1207532  60052459  42CRMO4 LIEBHERR   24\"R      2020-08-01    VD03   \n",
       "1    1207533  60052354              4140   16\"R      2020-08-01    VD02   \n",
       "2    1207534  60052387              A105   52\"P      2020-08-01    VD03   \n",
       "3    1207535  60052524              A105   39\"R      2020-08-01    VD02   \n",
       "4    1207536  60052371              1020   20\"R      2020-08-01    VD02   \n",
       "..       ...       ...               ...    ...             ...     ...   \n",
       "822  1208354  60057797          1524 CAT   20\"R      2020-12-22    VD02   \n",
       "823  1208355  60058173       A871 TYPE 1   31\"R      2020-12-22    VD03   \n",
       "824  1208356  60058289              1080   24\"R      2020-12-22    VD03   \n",
       "825  1208357  60058295            E8630M   31\"R      2020-12-22    VD02   \n",
       "826  1208358  60058301            E8630M   13\"R      2020-12-23    VD04   \n",
       "\n",
       "    Inoxidable  Duración  ModeloHidrógeno  HidrógenoPPM  ...  VDStartTemp  \\\n",
       "0           no        20             0.98          1.12  ...         1652   \n",
       "1           no        19             1.17          0.81  ...         1668   \n",
       "2           no        22             0.78          0.65  ...         1684   \n",
       "3           no        16             1.10          1.10  ...         1669   \n",
       "4           no        20             1.10          1.10  ...         1690   \n",
       "..         ...       ...              ...           ...  ...          ...   \n",
       "822         no        24             0.72          0.99  ...         1703   \n",
       "823         no        24             0.71          0.71  ...         1685   \n",
       "824         no        22             0.71          0.67  ...         1643   \n",
       "825         no        24             0.72          0.82  ...         1680   \n",
       "826         no        53             0.78          0.74  ...         1686   \n",
       "\n",
       "     VDDuration TOTAL  VDPowerOn  VDPowerOff  VDEvacuationDuration  \\\n",
       "0                  60         27          33                     7   \n",
       "1                  54         25          29                     6   \n",
       "2                  61         29          32                     7   \n",
       "3                  54         22          32                     6   \n",
       "4                  52         26          26                     6   \n",
       "..                ...        ...         ...                   ...   \n",
       "822                56         29          27                     5   \n",
       "823                60         29          31                     5   \n",
       "824                63         28          35                     6   \n",
       "825                54         29          25                     5   \n",
       "826               114         63          51                    10   \n",
       "\n",
       "     VDDeepVacuunDuration  VDPressureMin  VDArgonTotal  VDNitrogenTotal  \\\n",
       "0                      20           0.67          4.44              0.0   \n",
       "1                      19           0.58          3.91              0.0   \n",
       "2                      22           0.78         10.69              0.0   \n",
       "3                      16           0.71          3.55              0.0   \n",
       "4                      20           0.68          3.53              0.0   \n",
       "..                    ...            ...           ...              ...   \n",
       "822                    24           0.58          9.86              0.0   \n",
       "823                    24           0.64         10.78              0.0   \n",
       "824                    22           0.58          8.41              0.0   \n",
       "825                    24           0.56          5.81              0.0   \n",
       "826                    53           0.29         12.45              0.0   \n",
       "\n",
       "    VDEndTemp  \n",
       "0        1563  \n",
       "1        1581  \n",
       "2        1577  \n",
       "3        1586  \n",
       "4        1598  \n",
       "..        ...  \n",
       "822      1596  \n",
       "823      1587  \n",
       "824      1551  \n",
       "825      1580  \n",
       "826      1590  \n",
       "\n",
       "[827 rows x 43 columns]"
      ]
     },
     "execution_count": 5,
     "metadata": {},
     "output_type": "execute_result"
    }
   ],
   "source": [
    "# Binary Classification with Sonar Dataset: Baseline\n",
    "import pandas as pd\n",
    "from keras.models import Sequential\n",
    "from keras.layers import Dense\n",
    "from keras.wrappers.scikit_learn import KerasRegressor\n",
    "from sklearn.model_selection import KFold\n",
    "from sklearn.model_selection import cross_val_score\n",
    "\n",
    "# load dataset\n",
    "r = \"C:/Users/Maria Luisa/OneDrive - ECON Tech/Frisa_Calculo_Hidrogeno/Modelo Hidrogeno Ago-Dic_15-01.xlsx\"\n",
    "\n",
    "df1 = pd.read_excel(r)\n",
    "dataset = df1.values\n",
    "# split into input (X) and output (Y) variables\n",
    "#X = dataset[:, 0:13]\n",
    "#y = dataset[:,13]\n",
    "df1"
   ]
  },
  {
   "cell_type": "markdown",
   "metadata": {},
   "source": [
    "# Data cleaning"
   ]
  },
  {
   "cell_type": "code",
   "execution_count": 58,
   "metadata": {},
   "outputs": [],
   "source": [
    "df1.drop(index = (df1[df1['Prevaciado']<0].index.to_list()), axis=0 , inplace=True)\n",
    "df1 = df1[df1['HidrógenoPPM'] <3]\n",
    "df1 = df1[df1['Tapping'] <80000]\n",
    "\n",
    "arreglo_Nelson = ['HidrógenoPPM', 'Duración', 'Prevaciado','DurationDeepVacuum_1mbar',  'Presión_Promedio_de_Vacío_Profundo_mbar', 'Consumo_promedio_de_Ar_durante_VD_Nm3',\n",
    "                  'C', 'Si', 'Mn', 'Ni', 'Al', 'P', 'S','Cr', 'OffGasCO2', 'OffGasCO','OffGasH', 'Factor_Kf_Temp','VDPowerOn', 'VDEndTemp','Tapping', 'ModeloHidrógeno' ]\n",
    "df2 = df1.loc[:, arreglo_Nelson]\n",
    "df2 = df2.dropna()\n",
    "modelofrisa = df2.loc[:,'ModeloHidrógeno']\n",
    "df2 = df2.drop(columns = ['ModeloHidrógeno'], axis=1)\n",
    "data_dict = { 'Factor' : [ 0.06,-0.0014,0.011,0.008,0.023,0.013,-0.0022,-0.0016],\n",
    "         'Análisis químico del acero': [0.150,1.100,0.007,0.004,0.200,0.017,18.000,0.200]}\n",
    "data = pd.DataFrame.from_dict(data_dict).rename(index=dict(zip(range(0,8 ), ['C', 'Mn', 'P', 'S', 'Si', 'Al', 'Cr', 'Ni'])))\n",
    "data_kf = df2\n",
    "data_kf['sum_f_X_elementos'] = (data_kf['C'] * data.loc['C','Factor'] + data_kf['Mn'] * data.loc['Mn','Factor'] +\n",
    "                                data_kf['P'] * data.loc['P','Factor'] +data_kf['S'] * data.loc['S','Factor'] +\n",
    "                                data_kf['Si'] * data.loc['Si','Factor'] + data_kf['Al'] * data.loc['Al','Factor']+\n",
    "                                data_kf['Cr'] * data.loc['Cr','Factor'] + data_kf['Ni'] * data.loc['Ni','Factor']\n",
    "                                )\n",
    "data_kf['Fh'] =  10**(data_kf['sum_f_X_elementos'])\n",
    "log_kht = 0.923 - (1900/ (df2['Factor_Kf_Temp'] + 273) )\n",
    "data_kf['khT'] = 10**(log_kht)\n",
    "data_kf['K_F'] =  data_kf['khT'] /data_kf['Fh']\n",
    "data_kf = data_kf.astype(float)\n"
   ]
  },
  {
   "cell_type": "code",
   "execution_count": 59,
   "metadata": {},
   "outputs": [
    {
     "name": "stdout",
     "output_type": "stream",
     "text": [
      "<class 'pandas.core.frame.DataFrame'>\n",
      "Int64Index: 421 entries, 379 to 816\n",
      "Data columns (total 24 columns):\n",
      " #   Column                                   Non-Null Count  Dtype  \n",
      "---  ------                                   --------------  -----  \n",
      " 0   Duración                                 421 non-null    float64\n",
      " 1   Prevaciado                               421 non-null    float64\n",
      " 2   DurationDeepVacuum_1mbar                 421 non-null    float64\n",
      " 3   Presión_Promedio_de_Vacío_Profundo_mbar  421 non-null    float64\n",
      " 4   Consumo_promedio_de_Ar_durante_VD_Nm3    421 non-null    float64\n",
      " 5   C                                        421 non-null    float64\n",
      " 6   Si                                       421 non-null    float64\n",
      " 7   Mn                                       421 non-null    float64\n",
      " 8   Ni                                       421 non-null    float64\n",
      " 9   Al                                       421 non-null    float64\n",
      " 10  P                                        421 non-null    float64\n",
      " 11  S                                        421 non-null    float64\n",
      " 12  Cr                                       421 non-null    float64\n",
      " 13  OffGasCO2                                421 non-null    float64\n",
      " 14  OffGasCO                                 421 non-null    float64\n",
      " 15  OffGasH                                  421 non-null    float64\n",
      " 16  Factor_Kf_Temp                           421 non-null    float64\n",
      " 17  VDPowerOn                                421 non-null    float64\n",
      " 18  VDEndTemp                                421 non-null    float64\n",
      " 19  Tapping                                  421 non-null    float64\n",
      " 20  sum_f_X_elementos                        421 non-null    float64\n",
      " 21  Fh                                       421 non-null    float64\n",
      " 22  khT                                      421 non-null    float64\n",
      " 23  K_F                                      421 non-null    float64\n",
      "dtypes: float64(24)\n",
      "memory usage: 82.2 KB\n"
     ]
    }
   ],
   "source": [
    "X = data_kf.iloc[:,1:]\n",
    "y = data_kf.iloc[:,0].values\n",
    "X.info()"
   ]
  },
  {
   "cell_type": "code",
   "execution_count": 43,
   "metadata": {},
   "outputs": [
    {
     "data": {
      "text/plain": [
       "(421, 24)"
      ]
     },
     "execution_count": 43,
     "metadata": {},
     "output_type": "execute_result"
    }
   ],
   "source": [
    "X.shape"
   ]
  },
  {
   "cell_type": "markdown",
   "metadata": {},
   "source": [
    "# Comenzamos con la construccion del modelo"
   ]
  },
  {
   "cell_type": "markdown",
   "metadata": {},
   "source": [
    "Comencemos por definir la función que crea nuestro modelo de línea de base. \n",
    "1. Tiene una sola capa oculta completamente conectada con el mismo número de neuronas que los atributos de entrada (13). \n",
    "2. La red utiliza la función de activación ReLu para la capa oculta.\n",
    "    * Al ser problema de regresión no tiene función de activación en la capa de salida\n",
    "3. Utiliza el algoritmo de optimización ADAM y se optimiza una función de pérdida de error cuadrático medio. \n",
    "4. El objeto Wrapper para regresión se llama `KerasRegressor`. \n",
    "5. Evaluamos este modelo de línea de base con 10-fold."
   ]
  },
  {
   "cell_type": "code",
   "execution_count": 104,
   "metadata": {},
   "outputs": [
    {
     "name": "stdout",
     "output_type": "stream",
     "text": [
      "[-0.05946355 -0.13706905 -0.1277208  -0.0530308  -0.28166658 -0.11133144\n",
      " -0.11395792 -0.08889373 -0.09875599 -0.40844962]\n",
      "Linea base: -0.15 (0.11)MSE \n"
     ]
    }
   ],
   "source": [
    "# define base model\n",
    "def baseline_model():\n",
    "    # create model\n",
    "    model = Sequential()\n",
    "    model.add(Dense(24, input_dim =24, activation = 'relu'))\n",
    "    model.add(Dense(24, activation = 'relu'))\n",
    "    model.add(Dense(60,   activation = 'relu'))\n",
    "    model.add(Dense(100, activation = 'relu'))\n",
    "    model.add(Dense(1))\n",
    "    # Compile model\n",
    "    model.compile(loss='mean_squared_error', optimizer='adam')\n",
    "    return model\n",
    "\n",
    "# evaluate model\n",
    "estimators = []\n",
    "estimators.append(('Standarize', StandardScaler()))\n",
    "estimators.append(('NN', KerasRegressor(build_fn=baseline_model, epochs=100,\n",
    "                                       batch_size=5, verbose=0)))\n",
    "kfold = KFold(n_splits =10)\n",
    "results = cross_val_score(estimator, X, y, cv =kfold)\n",
    "print(results)\n",
    "print('Linea base: %.2f (%.2f)MSE ' %(results.mean(), results.std()))"
   ]
  },
  {
   "cell_type": "code",
   "execution_count": 105,
   "metadata": {},
   "outputs": [
    {
     "data": {
      "text/html": [
       "<div>\n",
       "<style scoped>\n",
       "    .dataframe tbody tr th:only-of-type {\n",
       "        vertical-align: middle;\n",
       "    }\n",
       "\n",
       "    .dataframe tbody tr th {\n",
       "        vertical-align: top;\n",
       "    }\n",
       "\n",
       "    .dataframe thead th {\n",
       "        text-align: right;\n",
       "    }\n",
       "</style>\n",
       "<table border=\"1\" class=\"dataframe\">\n",
       "  <thead>\n",
       "    <tr style=\"text-align: right;\">\n",
       "      <th></th>\n",
       "      <th>0</th>\n",
       "      <th>0</th>\n",
       "    </tr>\n",
       "  </thead>\n",
       "  <tbody>\n",
       "    <tr>\n",
       "      <th>0</th>\n",
       "      <td>-1423.737549</td>\n",
       "      <td>0.74</td>\n",
       "    </tr>\n",
       "    <tr>\n",
       "      <th>1</th>\n",
       "      <td>-1423.686035</td>\n",
       "      <td>1.08</td>\n",
       "    </tr>\n",
       "    <tr>\n",
       "      <th>2</th>\n",
       "      <td>-1505.231567</td>\n",
       "      <td>0.86</td>\n",
       "    </tr>\n",
       "    <tr>\n",
       "      <th>3</th>\n",
       "      <td>-1444.113037</td>\n",
       "      <td>0.50</td>\n",
       "    </tr>\n",
       "    <tr>\n",
       "      <th>4</th>\n",
       "      <td>-1488.316650</td>\n",
       "      <td>1.25</td>\n",
       "    </tr>\n",
       "    <tr>\n",
       "      <th>...</th>\n",
       "      <td>...</td>\n",
       "      <td>...</td>\n",
       "    </tr>\n",
       "    <tr>\n",
       "      <th>416</th>\n",
       "      <td>-1507.253052</td>\n",
       "      <td>2.04</td>\n",
       "    </tr>\n",
       "    <tr>\n",
       "      <th>417</th>\n",
       "      <td>-1391.907471</td>\n",
       "      <td>0.79</td>\n",
       "    </tr>\n",
       "    <tr>\n",
       "      <th>418</th>\n",
       "      <td>-1486.249512</td>\n",
       "      <td>0.63</td>\n",
       "    </tr>\n",
       "    <tr>\n",
       "      <th>419</th>\n",
       "      <td>-1390.820801</td>\n",
       "      <td>0.77</td>\n",
       "    </tr>\n",
       "    <tr>\n",
       "      <th>420</th>\n",
       "      <td>-1464.947388</td>\n",
       "      <td>1.06</td>\n",
       "    </tr>\n",
       "  </tbody>\n",
       "</table>\n",
       "<p>421 rows × 2 columns</p>\n",
       "</div>"
      ],
      "text/plain": [
       "               0     0\n",
       "0   -1423.737549  0.74\n",
       "1   -1423.686035  1.08\n",
       "2   -1505.231567  0.86\n",
       "3   -1444.113037  0.50\n",
       "4   -1488.316650  1.25\n",
       "..           ...   ...\n",
       "416 -1507.253052  2.04\n",
       "417 -1391.907471  0.79\n",
       "418 -1486.249512  0.63\n",
       "419 -1390.820801  0.77\n",
       "420 -1464.947388  1.06\n",
       "\n",
       "[421 rows x 2 columns]"
      ]
     },
     "execution_count": 105,
     "metadata": {},
     "output_type": "execute_result"
    }
   ],
   "source": [
    "y_pred = baseline_model().predict(X)\n",
    "y_s = pd.concat([pd.DataFrame(y_pred), pd.DataFrame(y)], axis=1)\n",
    "y_s\n"
   ]
  },
  {
   "cell_type": "code",
   "execution_count": 100,
   "metadata": {},
   "outputs": [
    {
     "name": "stdout",
     "output_type": "stream",
     "text": [
      "[-0.15125273 -0.12133182 -0.13369067 -0.05187222 -0.27408642 -0.12352256\n",
      " -0.10851767 -0.08909117 -0.10251088 -0.10390619]\n",
      "Linea base: -0.13 (0.06)MSE \n"
     ]
    }
   ],
   "source": [
    "# define base model\n",
    "def baseline_model():\n",
    "    # create model\n",
    "    model = Sequential()\n",
    "    model.add(Dense(24, input_dim =24, activation = 'relu'))\n",
    "    model.add(Dense(1))\n",
    "    \n",
    "    # Compile model\n",
    "    model.compile(loss='mean_squared_error', optimizer='adam')\n",
    "    return model\n",
    "\n",
    "# evaluate model\n",
    "estimators = []\n",
    "estimators.append(('Standarize', StandardScaler()))\n",
    "estimators.append(('NN', KerasRegressor(build_fn=baseline_model, epochs=100,\n",
    "                                       batch_size=5, verbose=0)))\n",
    "kfold = KFold(n_splits =10)\n",
    "results = cross_val_score(estimator, X, y, cv =kfold)\n",
    "print(results)\n",
    "print('Linea base: %.2f (%.2f)MSE ' %(results.mean(), results.std()))"
   ]
  },
  {
   "cell_type": "markdown",
   "metadata": {},
   "source": [
    "---\n",
    "<div style=\"text-align: right\"> <font size=5> <a href=\"#indice\"><i class=\"fa fa-arrow-circle-up\" aria-hidden=\"true\" style=\"color:#004D7F\"></i></a></font></div>\n",
    "\n",
    "---"
   ]
  },
  {
   "cell_type": "code",
   "execution_count": 62,
   "metadata": {},
   "outputs": [
    {
     "name": "stdout",
     "output_type": "stream",
     "text": [
      "Linea base: -351.78 (475.94)MSE \n"
     ]
    }
   ],
   "source": [
    "print('Linea base: %.2f (%.2f)MSE ' %(results.mean(), results.std()))"
   ]
  },
  {
   "cell_type": "markdown",
   "metadata": {},
   "source": [
    "<a id=\"section2\"></a>\n",
    "# <font color=\"#004D7F\" size=6>2. Optimizar el rendimiento con procesamiento de datos</font>"
   ]
  },
  {
   "cell_type": "markdown",
   "metadata": {},
   "source": [
    "Podemos utilizar el marco de trabajo [`Pipeline`](https://scikit-learn.org/stable/modules/generated/sklearn.pipeline.Pipeline.html) para realizar la **estandarización** durante el proceso de evaluación del modelo, dentro de cada fold. "
   ]
  },
  {
   "cell_type": "code",
   "execution_count": 63,
   "metadata": {},
   "outputs": [
    {
     "name": "stdout",
     "output_type": "stream",
     "text": [
      "Estandarizado: -643.62 (990.78)MSE \n"
     ]
    }
   ],
   "source": [
    "# Libraries\n",
    "from sklearn.preprocessing import StandardScaler\n",
    "from sklearn.pipeline import Pipeline\n",
    "\n",
    "# evaluate model with standardized dataset\n",
    "estimators = []\n",
    "estimators.append(('Standarize', StandardScaler()))\n",
    "estimators.append(('NN', KerasRegressor(build_fn=baseline_model, epochs=100,\n",
    "                                       batch_size=5, verbose=0)))\n",
    "kfold = KFold(n_splits =10)\n",
    "results = cross_val_score(estimator, X, y, cv= kfold)\n",
    "print('Estandarizado: %.2f (%.2f)MSE ' %(results.mean(), results.std()))"
   ]
  },
  {
   "cell_type": "markdown",
   "metadata": {},
   "source": [
    "<div class=\"alert alert-block alert-info\">\n",
    "    \n",
    "<i class=\"fa fa-info-circle\" aria-hidden=\"true\"></i>\n",
    "**Trabajo a realizar:** Una extensión adicional de esta sección sería aplicar de manera similar un cambio de escala a la variable de salida, como normalizarla al rango de 0 a 1 y usar una función de activación Sigmoide o similar en la capa de salida para reducir las predicciones de salida al mismo rango."
   ]
  },
  {
   "cell_type": "markdown",
   "metadata": {},
   "source": [
    "---\n",
    "<div style=\"text-align: right\"> <font size=5> <a href=\"#indice\"><i class=\"fa fa-arrow-circle-up\" aria-hidden=\"true\" style=\"color:#004D7F\"></i></a></font></div>\n",
    "\n",
    "---"
   ]
  },
  {
   "cell_type": "markdown",
   "metadata": {},
   "source": [
    "<a id=\"section3\"></a>\n",
    "# <font color=\"#004D7F\" size=6>3. Ajuste de la toplogía</font>"
   ]
  },
  {
   "cell_type": "markdown",
   "metadata": {},
   "source": [
    "En esta sección evaluaremos dos topologías (más profunda y amplia) para mejorar aún más el rendimiento del modelo."
   ]
  },
  {
   "cell_type": "markdown",
   "metadata": {},
   "source": [
    "<a id=\"section3.1\"></a>\n",
    "# <font color=\"#004D7F\" size=5>3.1. Evaluar una topología más profunda</font>"
   ]
  },
  {
   "cell_type": "markdown",
   "metadata": {},
   "source": [
    "Una forma de mejorar el rendimiento de una red neuronal es agregar más capas para hacerla más profunda. En este caso con aproximadamente la mitad del número de neuronas. Nuestra topología de red ahora se ve así:\n",
    "```\n",
    "    13 entradas -> [13 -> 6] -> 1 salida\n",
    "```\n",
    "Podemos evaluar esta topología de red de la misma manera que anteriormente, al mismo tiempo que usamos la estandarización que demostró un mejor rendimiento."
   ]
  },
  {
   "cell_type": "code",
   "execution_count": 64,
   "metadata": {},
   "outputs": [
    {
     "name": "stdout",
     "output_type": "stream",
     "text": [
      "DeepNN: -532.57 (671.91)MSE \n"
     ]
    }
   ],
   "source": [
    "# define the model\n",
    "def larger_model():\n",
    "    # create model\n",
    "    model = Sequential()\n",
    "    model.add(Dense(13, input_dim =13, activation = 'relu'))\n",
    "    model.add(Dense(6, activation = 'relu'))\n",
    "    model.add(Dense(1))\n",
    "    \n",
    "    # Compile model\n",
    "    model.compile(loss='mean_squared_error', optimizer='adam')\n",
    "    return model\n",
    "\n",
    "# evaluate model\n",
    "estimators = []\n",
    "estimators.append(('Standarize', StandardScaler()))\n",
    "estimators.append(('DeepNN', KerasRegressor(build_fn=larger_model, epochs=100,\n",
    "                                       batch_size=5, verbose=0)))\n",
    "kfold = KFold(n_splits =10)\n",
    "results = cross_val_score(estimator, X, y, cv= kfold)\n",
    "print('DeepNN: %.2f (%.2f)MSE ' %(results.mean(), results.std()))"
   ]
  },
  {
   "cell_type": "markdown",
   "metadata": {},
   "source": [
    "<a id=\"section3.2\"></a>\n",
    "# <font color=\"#004D7F\" size=5>3.2. Evaluar una topología más grande</font>"
   ]
  },
  {
   "cell_type": "markdown",
   "metadata": {},
   "source": [
    "Otro enfoque para aumentar la capacidad de representación del modelo es crear una red más amplia. Aquí, hemos aumentado el número de neuronas en la capa oculta en de 13 a 20. La topología de nuestra red más amplia se puede resumir de la siguiente manera:\n",
    "\n",
    "```\n",
    "    13 entradas -> [20] -> 1 salida\n",
    "```"
   ]
  },
  {
   "cell_type": "code",
   "execution_count": 65,
   "metadata": {},
   "outputs": [
    {
     "name": "stdout",
     "output_type": "stream",
     "text": [
      "Deep wider NN: -1304.58 (1671.54)MSE \n"
     ]
    }
   ],
   "source": [
    "# define wider model\n",
    "def wider_model():\n",
    "    # create model\n",
    "    model = Sequential()\n",
    "    model.add(Dense(20, input_dim =13, activation = 'relu'))\n",
    "    model.add(Dense(1))\n",
    "    \n",
    "    # Compile model\n",
    "    model.compile(loss='mean_squared_error', optimizer='adam')\n",
    "    return model\n",
    "\n",
    "# evaluate model\n",
    "estimators = []\n",
    "estimators.append(('Standarize', StandardScaler()))\n",
    "estimators.append(('Deep wider NN', KerasRegressor(build_fn=wider_model, epochs=50,\n",
    "                                       batch_size=5, verbose=0)))\n",
    "kfold = KFold(n_splits =10)\n",
    "results = cross_val_score(estimator, X, y, cv= kfold)\n",
    "print('Deep wider NN: %.2f (%.2f)MSE ' %(results.mean(), results.std()))"
   ]
  },
  {
   "cell_type": "markdown",
   "metadata": {},
   "source": [
    "La construcción del modelo ve una caída adicional en el error a aproximadamente 22 mil dólares cuadrados. Este no es un mal resultado para este problema."
   ]
  },
  {
   "cell_type": "markdown",
   "metadata": {},
   "source": [
    "<div style=\"text-align: right\"> <font size=5> <a href=\"#indice\"><i class=\"fa fa-arrow-circle-up\" aria-hidden=\"true\" style=\"color:#004D7F\"></i></a></font></div>\n",
    "\n",
    "---\n",
    "\n",
    "<div style=\"text-align: right\"> <font size=6><i class=\"fa fa-coffee\" aria-hidden=\"true\" style=\"color:#004D7F\"></i> </font></div>"
   ]
  }
 ],
 "metadata": {
  "kernelspec": {
   "display_name": "Python 3",
   "language": "python",
   "name": "python3"
  },
  "language_info": {
   "codemirror_mode": {
    "name": "ipython",
    "version": 3
   },
   "file_extension": ".py",
   "mimetype": "text/x-python",
   "name": "python",
   "nbconvert_exporter": "python",
   "pygments_lexer": "ipython3",
   "version": "3.8.5"
  }
 },
 "nbformat": 4,
 "nbformat_minor": 2
}
